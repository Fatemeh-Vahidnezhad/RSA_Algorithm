{
  "nbformat": 4,
  "nbformat_minor": 0,
  "metadata": {
    "colab": {
      "provenance": []
    },
    "kernelspec": {
      "name": "python3",
      "display_name": "Python 3"
    },
    "language_info": {
      "name": "python"
    }
  },
  "cells": [
    {
      "cell_type": "code",
      "execution_count": 2,
      "metadata": {
        "id": "GOI98JoZT_g_"
      },
      "outputs": [],
      "source": [
        "# check a number is prime\n",
        "def is_prime(n):\n",
        "  if n <= 1:\n",
        "    return False\n",
        "  for i in range(2, int(n**0.5) + 1):\n",
        "    if n % i == 0:\n",
        "      return False\n",
        "  return True\n",
        "\n",
        "# is_prime(2)"
      ]
    },
    {
      "cell_type": "code",
      "source": [
        "# create two prime number\n",
        "import random\n",
        "import math\n",
        "\n",
        "prime = []                          # step1\n",
        "counter = 1\n",
        "while counter <=2:\n",
        "  num = random.randint(1,100)\n",
        "  if is_prime(num):\n",
        "    prime.append(num)\n",
        "    counter += 1\n",
        "\n",
        "# create encript and decript\n",
        "n = prime[0] * prime[1]             # step2\n",
        "z = (prime[0]-1) * (prime[1]-1)     # step3\n",
        "# print('z', z)\n",
        "while True:                         # step4\n",
        "  e = random.randint(1,z)\n",
        "  if math.gcd(e, z) ==1:\n",
        "    break\n",
        "# print('e', e)\n",
        "d = pow(e, -1, z)                   # step5\n",
        "public_key = (e, n)                 # step6\n",
        "private_key = (d, n)\n",
        "c = int(input(\"enter a number:\"))\n",
        "me = c**e % n\n",
        "print(\"encript: \", me)\n",
        "print(\"decript: \", me** d % n)\n",
        "print(\"public_key: \", public_key)\n",
        "print(\"private_key: \", private_key)"
      ],
      "metadata": {
        "colab": {
          "base_uri": "https://localhost:8080/"
        },
        "id": "ZEoAGeUZWJ4a",
        "outputId": "a1147df4-31ff-4754-d4ba-529baf049758"
      },
      "execution_count": 4,
      "outputs": [
        {
          "output_type": "stream",
          "name": "stdout",
          "text": [
            "enter a number:12\n",
            "encript:  1288\n",
            "decript:  12\n",
            "public_key:  (2197, 2813)\n",
            "private_key:  (2365, 2813)\n"
          ]
        }
      ]
    }
  ]
}